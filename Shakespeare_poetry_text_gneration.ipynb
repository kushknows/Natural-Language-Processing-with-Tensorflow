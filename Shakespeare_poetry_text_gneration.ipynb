{
  "nbformat": 4,
  "nbformat_minor": 0,
  "metadata": {
    "accelerator": "GPU",
    "colab": {
      "name": "NLP_Week4_Exercise_Shakespeare_Question.ipynb",
      "provenance": [],
      "toc_visible": true
    },
    "kernelspec": {
      "display_name": "Python 3",
      "name": "python3"
    }
  },
  "cells": [
    {
      "cell_type": "code",
      "metadata": {
        "id": "zX4Kg8DUTKWO",
        "colab_type": "code",
        "colab": {}
      },
      "source": [
        "#@title Licensed under the Apache License, Version 2.0 (the \"License\");\n",
        "# you may not use this file except in compliance with the License.\n",
        "# You may obtain a copy of the License at\n",
        "#\n",
        "# https://www.apache.org/licenses/LICENSE-2.0\n",
        "#\n",
        "# Unless required by applicable law or agreed to in writing, software\n",
        "# distributed under the License is distributed on an \"AS IS\" BASIS,\n",
        "# WITHOUT WARRANTIES OR CONDITIONS OF ANY KIND, either express or implied.\n",
        "# See the License for the specific language governing permissions and\n",
        "# limitations under the License."
      ],
      "execution_count": 0,
      "outputs": []
    },
    {
      "cell_type": "code",
      "metadata": {
        "colab_type": "code",
        "id": "BOwsuGQQY9OL",
        "colab": {}
      },
      "source": [
        "from tensorflow.keras.preprocessing.sequence import pad_sequences\n",
        "from tensorflow.keras.layers import Embedding, LSTM, Dense, Dropout, Bidirectional\n",
        "from tensorflow.keras.preprocessing.text import Tokenizer\n",
        "from tensorflow.keras.models import Sequential\n",
        "from tensorflow.keras.optimizers import Adam\n",
        "### YOUR CODE HERE\n",
        "# Figure out how to import regularizers\n",
        "###\n",
        "import tensorflow.keras.utils as ku \n",
        "import numpy as np "
      ],
      "execution_count": 0,
      "outputs": []
    },
    {
      "cell_type": "code",
      "metadata": {
        "colab_type": "code",
        "id": "PRnDnCW-Z7qv",
        "colab": {
          "base_uri": "https://localhost:8080/",
          "height": 204
        },
        "outputId": "19b07a0f-97af-4fc5-8d72-3960bccd6996"
      },
      "source": [
        "tokenizer = Tokenizer()\n",
        "!wget --no-check-certificate \\\n",
        "    https://storage.googleapis.com/laurencemoroney-blog.appspot.com/sonnets.txt \\\n",
        "    -O /tmp/sonnets.txt\n",
        "data = open('/tmp/sonnets.txt').read()\n",
        "\n",
        "corpus = data.lower().split(\"\\n\")\n",
        "\n",
        "\n",
        "tokenizer.fit_on_texts(corpus)\n",
        "total_words = len(tokenizer.word_index) + 1\n",
        "\n",
        "# create input sequences using list of tokens\n",
        "input_sequences = []\n",
        "for line in corpus:\n",
        "\ttoken_list = tokenizer.texts_to_sequences([line])[0]\n",
        "\tfor i in range(1, len(token_list)):\n",
        "\t\tn_gram_sequence = token_list[:i+1]\n",
        "\t\tinput_sequences.append(n_gram_sequence)\n",
        "\n",
        "\n",
        "# pad sequences \n",
        "max_sequence_len = max([len(x) for x in input_sequences])\n",
        "input_sequences = np.array(pad_sequences(input_sequences, maxlen=max_sequence_len, padding='pre'))\n",
        "\n",
        "# create predictors and label\n",
        "predictors, label = input_sequences[:,:-1],input_sequences[:,-1]\n",
        "\n",
        "label = ku.to_categorical(label, num_classes=total_words)"
      ],
      "execution_count": 3,
      "outputs": [
        {
          "output_type": "stream",
          "text": [
            "--2020-05-27 14:57:44--  https://storage.googleapis.com/laurencemoroney-blog.appspot.com/sonnets.txt\n",
            "Resolving storage.googleapis.com (storage.googleapis.com)... 64.233.188.128, 2404:6800:4008:c03::80\n",
            "Connecting to storage.googleapis.com (storage.googleapis.com)|64.233.188.128|:443... connected.\n",
            "HTTP request sent, awaiting response... 200 OK\n",
            "Length: 93578 (91K) [text/plain]\n",
            "Saving to: ‘/tmp/sonnets.txt’\n",
            "\n",
            "\r/tmp/sonnets.txt      0%[                    ]       0  --.-KB/s               \r/tmp/sonnets.txt    100%[===================>]  91.38K  --.-KB/s    in 0.001s  \n",
            "\n",
            "2020-05-27 14:57:44 (73.5 MB/s) - ‘/tmp/sonnets.txt’ saved [93578/93578]\n",
            "\n"
          ],
          "name": "stdout"
        }
      ]
    },
    {
      "cell_type": "code",
      "metadata": {
        "colab_type": "code",
        "id": "w9vH8Y59ajYL",
        "colab": {
          "base_uri": "https://localhost:8080/",
          "height": 272
        },
        "outputId": "3327f901-d30b-4c94-b0d4-aad239b6dd01"
      },
      "source": [
        "model = Sequential()\n",
        "model.add(Embedding(total_words, 64,input_length=max_sequence_len-1))\n",
        "model.add(Bidirectional(LSTM(64)))\n",
        "model.add(Dense(total_words, activation='softmax'))\n",
        "#model.add(# Another LSTM Layer)\n",
        "#model.add(# A Dense Layer including regularizers)\n",
        "#model.add(# A Dense Layer)\n",
        "# Pick an optimizer\n",
        "model.compile(loss= 'categorical_crossentropy', optimizer = 'adam', metrics= ['accuracy'])\n",
        "print(model.summary())\n"
      ],
      "execution_count": 9,
      "outputs": [
        {
          "output_type": "stream",
          "text": [
            "Model: \"sequential_2\"\n",
            "_________________________________________________________________\n",
            "Layer (type)                 Output Shape              Param #   \n",
            "=================================================================\n",
            "embedding_2 (Embedding)      (None, 10, 64)            205504    \n",
            "_________________________________________________________________\n",
            "bidirectional_1 (Bidirection (None, 128)               66048     \n",
            "_________________________________________________________________\n",
            "dense_1 (Dense)              (None, 3211)              414219    \n",
            "=================================================================\n",
            "Total params: 685,771\n",
            "Trainable params: 685,771\n",
            "Non-trainable params: 0\n",
            "_________________________________________________________________\n",
            "None\n"
          ],
          "name": "stdout"
        }
      ]
    },
    {
      "cell_type": "code",
      "metadata": {
        "colab_type": "code",
        "id": "AIg2f1HBxqof",
        "colab": {
          "base_uri": "https://localhost:8080/",
          "height": 1000
        },
        "outputId": "9a5193f5-219c-4d2a-8029-1b5ad57658b0"
      },
      "source": [
        " history = model.fit(predictors, label, epochs=100, verbose=1)"
      ],
      "execution_count": 10,
      "outputs": [
        {
          "output_type": "stream",
          "text": [
            "Epoch 1/100\n",
            "484/484 [==============================] - 7s 14ms/step - loss: 6.9088 - accuracy: 0.0206\n",
            "Epoch 2/100\n",
            "484/484 [==============================] - 7s 14ms/step - loss: 6.4833 - accuracy: 0.0269\n",
            "Epoch 3/100\n",
            "484/484 [==============================] - 7s 14ms/step - loss: 6.3220 - accuracy: 0.0354\n",
            "Epoch 4/100\n",
            "484/484 [==============================] - 7s 14ms/step - loss: 6.1233 - accuracy: 0.0437\n",
            "Epoch 5/100\n",
            "484/484 [==============================] - 7s 14ms/step - loss: 5.9163 - accuracy: 0.0504\n",
            "Epoch 6/100\n",
            "484/484 [==============================] - 7s 14ms/step - loss: 5.7084 - accuracy: 0.0576\n",
            "Epoch 7/100\n",
            "484/484 [==============================] - 7s 14ms/step - loss: 5.4900 - accuracy: 0.0664\n",
            "Epoch 8/100\n",
            "484/484 [==============================] - 7s 14ms/step - loss: 5.2796 - accuracy: 0.0783\n",
            "Epoch 9/100\n",
            "484/484 [==============================] - 7s 14ms/step - loss: 5.0629 - accuracy: 0.0898\n",
            "Epoch 10/100\n",
            "484/484 [==============================] - 7s 14ms/step - loss: 4.8644 - accuracy: 0.1009\n",
            "Epoch 11/100\n",
            "484/484 [==============================] - 7s 14ms/step - loss: 4.6717 - accuracy: 0.1149\n",
            "Epoch 12/100\n",
            "484/484 [==============================] - 7s 14ms/step - loss: 4.4831 - accuracy: 0.1356\n",
            "Epoch 13/100\n",
            "484/484 [==============================] - 7s 14ms/step - loss: 4.3096 - accuracy: 0.1530\n",
            "Epoch 14/100\n",
            "484/484 [==============================] - 7s 14ms/step - loss: 4.1376 - accuracy: 0.1782\n",
            "Epoch 15/100\n",
            "484/484 [==============================] - 7s 14ms/step - loss: 3.9666 - accuracy: 0.2024\n",
            "Epoch 16/100\n",
            "484/484 [==============================] - 7s 14ms/step - loss: 3.8130 - accuracy: 0.2257\n",
            "Epoch 17/100\n",
            "484/484 [==============================] - 7s 15ms/step - loss: 3.6615 - accuracy: 0.2519\n",
            "Epoch 18/100\n",
            "484/484 [==============================] - 7s 14ms/step - loss: 3.5139 - accuracy: 0.2765\n",
            "Epoch 19/100\n",
            "484/484 [==============================] - 7s 14ms/step - loss: 3.3660 - accuracy: 0.3055\n",
            "Epoch 20/100\n",
            "484/484 [==============================] - 7s 14ms/step - loss: 3.2345 - accuracy: 0.3292\n",
            "Epoch 21/100\n",
            "484/484 [==============================] - 7s 14ms/step - loss: 3.1054 - accuracy: 0.3551\n",
            "Epoch 22/100\n",
            "484/484 [==============================] - 7s 14ms/step - loss: 2.9826 - accuracy: 0.3789\n",
            "Epoch 23/100\n",
            "484/484 [==============================] - 7s 14ms/step - loss: 2.8741 - accuracy: 0.3972\n",
            "Epoch 24/100\n",
            "484/484 [==============================] - 7s 14ms/step - loss: 2.7609 - accuracy: 0.4182\n",
            "Epoch 25/100\n",
            "484/484 [==============================] - 7s 14ms/step - loss: 2.6549 - accuracy: 0.4400\n",
            "Epoch 26/100\n",
            "484/484 [==============================] - 7s 14ms/step - loss: 2.5538 - accuracy: 0.4607\n",
            "Epoch 27/100\n",
            "484/484 [==============================] - 7s 14ms/step - loss: 2.4593 - accuracy: 0.4794\n",
            "Epoch 28/100\n",
            "484/484 [==============================] - 7s 14ms/step - loss: 2.3712 - accuracy: 0.4983\n",
            "Epoch 29/100\n",
            "484/484 [==============================] - 7s 15ms/step - loss: 2.2861 - accuracy: 0.5140\n",
            "Epoch 30/100\n",
            "484/484 [==============================] - 7s 14ms/step - loss: 2.2115 - accuracy: 0.5323\n",
            "Epoch 31/100\n",
            "484/484 [==============================] - 7s 14ms/step - loss: 2.1264 - accuracy: 0.5471\n",
            "Epoch 32/100\n",
            "484/484 [==============================] - 7s 15ms/step - loss: 2.0547 - accuracy: 0.5620\n",
            "Epoch 33/100\n",
            "484/484 [==============================] - 7s 14ms/step - loss: 1.9827 - accuracy: 0.5746\n",
            "Epoch 34/100\n",
            "484/484 [==============================] - 7s 14ms/step - loss: 1.9147 - accuracy: 0.5910\n",
            "Epoch 35/100\n",
            "484/484 [==============================] - 7s 14ms/step - loss: 1.8554 - accuracy: 0.6032\n",
            "Epoch 36/100\n",
            "484/484 [==============================] - 7s 14ms/step - loss: 1.7926 - accuracy: 0.6180\n",
            "Epoch 37/100\n",
            "484/484 [==============================] - 7s 14ms/step - loss: 1.7397 - accuracy: 0.6290\n",
            "Epoch 38/100\n",
            "484/484 [==============================] - 7s 14ms/step - loss: 1.6711 - accuracy: 0.6420\n",
            "Epoch 39/100\n",
            "484/484 [==============================] - 7s 15ms/step - loss: 1.6245 - accuracy: 0.6520\n",
            "Epoch 40/100\n",
            "484/484 [==============================] - 7s 14ms/step - loss: 1.5745 - accuracy: 0.6643\n",
            "Epoch 41/100\n",
            "484/484 [==============================] - 7s 14ms/step - loss: 1.5292 - accuracy: 0.6705\n",
            "Epoch 42/100\n",
            "484/484 [==============================] - 7s 14ms/step - loss: 1.4810 - accuracy: 0.6832\n",
            "Epoch 43/100\n",
            "484/484 [==============================] - 7s 14ms/step - loss: 1.4297 - accuracy: 0.6946\n",
            "Epoch 44/100\n",
            "484/484 [==============================] - 7s 14ms/step - loss: 1.3912 - accuracy: 0.7031\n",
            "Epoch 45/100\n",
            "484/484 [==============================] - 7s 14ms/step - loss: 1.3474 - accuracy: 0.7113\n",
            "Epoch 46/100\n",
            "484/484 [==============================] - 7s 14ms/step - loss: 1.3133 - accuracy: 0.7188\n",
            "Epoch 47/100\n",
            "484/484 [==============================] - 7s 14ms/step - loss: 1.2726 - accuracy: 0.7253\n",
            "Epoch 48/100\n",
            "484/484 [==============================] - 7s 14ms/step - loss: 1.2306 - accuracy: 0.7386\n",
            "Epoch 49/100\n",
            "484/484 [==============================] - 7s 14ms/step - loss: 1.1950 - accuracy: 0.7434\n",
            "Epoch 50/100\n",
            "484/484 [==============================] - 7s 14ms/step - loss: 1.1771 - accuracy: 0.7481\n",
            "Epoch 51/100\n",
            "484/484 [==============================] - 7s 14ms/step - loss: 1.1474 - accuracy: 0.7535\n",
            "Epoch 52/100\n",
            "484/484 [==============================] - 7s 14ms/step - loss: 1.1137 - accuracy: 0.7597\n",
            "Epoch 53/100\n",
            "484/484 [==============================] - 7s 14ms/step - loss: 1.0801 - accuracy: 0.7678\n",
            "Epoch 54/100\n",
            "484/484 [==============================] - 7s 15ms/step - loss: 1.0592 - accuracy: 0.7705\n",
            "Epoch 55/100\n",
            "484/484 [==============================] - 7s 15ms/step - loss: 1.0300 - accuracy: 0.7784\n",
            "Epoch 56/100\n",
            "484/484 [==============================] - 7s 14ms/step - loss: 1.0051 - accuracy: 0.7825\n",
            "Epoch 57/100\n",
            "484/484 [==============================] - 7s 15ms/step - loss: 0.9821 - accuracy: 0.7899\n",
            "Epoch 58/100\n",
            "484/484 [==============================] - 7s 14ms/step - loss: 0.9685 - accuracy: 0.7888\n",
            "Epoch 59/100\n",
            "484/484 [==============================] - 7s 14ms/step - loss: 0.9303 - accuracy: 0.7987\n",
            "Epoch 60/100\n",
            "484/484 [==============================] - 7s 14ms/step - loss: 0.9082 - accuracy: 0.8016\n",
            "Epoch 61/100\n",
            "484/484 [==============================] - 7s 14ms/step - loss: 0.9057 - accuracy: 0.7998\n",
            "Epoch 62/100\n",
            "484/484 [==============================] - 7s 14ms/step - loss: 0.8939 - accuracy: 0.8039\n",
            "Epoch 63/100\n",
            "484/484 [==============================] - 7s 14ms/step - loss: 0.8662 - accuracy: 0.8084\n",
            "Epoch 64/100\n",
            "484/484 [==============================] - 7s 15ms/step - loss: 0.8490 - accuracy: 0.8120\n",
            "Epoch 65/100\n",
            "484/484 [==============================] - 7s 14ms/step - loss: 0.8309 - accuracy: 0.8139\n",
            "Epoch 66/100\n",
            "484/484 [==============================] - 7s 14ms/step - loss: 0.8137 - accuracy: 0.8179\n",
            "Epoch 67/100\n",
            "484/484 [==============================] - 7s 15ms/step - loss: 0.8081 - accuracy: 0.8170\n",
            "Epoch 68/100\n",
            "484/484 [==============================] - 7s 14ms/step - loss: 0.7910 - accuracy: 0.8203\n",
            "Epoch 69/100\n",
            "484/484 [==============================] - 7s 14ms/step - loss: 0.7893 - accuracy: 0.8222\n",
            "Epoch 70/100\n",
            "484/484 [==============================] - 7s 14ms/step - loss: 0.7855 - accuracy: 0.8210\n",
            "Epoch 71/100\n",
            "484/484 [==============================] - 7s 14ms/step - loss: 0.7611 - accuracy: 0.8256\n",
            "Epoch 72/100\n",
            "484/484 [==============================] - 7s 14ms/step - loss: 0.7512 - accuracy: 0.8271\n",
            "Epoch 73/100\n",
            "484/484 [==============================] - 7s 14ms/step - loss: 0.7326 - accuracy: 0.8312\n",
            "Epoch 74/100\n",
            "484/484 [==============================] - 7s 14ms/step - loss: 0.7296 - accuracy: 0.8316\n",
            "Epoch 75/100\n",
            "484/484 [==============================] - 7s 15ms/step - loss: 0.7086 - accuracy: 0.8345\n",
            "Epoch 76/100\n",
            "484/484 [==============================] - 7s 14ms/step - loss: 0.7045 - accuracy: 0.8348\n",
            "Epoch 77/100\n",
            "484/484 [==============================] - 7s 14ms/step - loss: 0.7018 - accuracy: 0.8329\n",
            "Epoch 78/100\n",
            "484/484 [==============================] - 7s 14ms/step - loss: 0.6871 - accuracy: 0.8375\n",
            "Epoch 79/100\n",
            "484/484 [==============================] - 7s 14ms/step - loss: 0.6742 - accuracy: 0.8388\n",
            "Epoch 80/100\n",
            "484/484 [==============================] - 7s 14ms/step - loss: 0.6743 - accuracy: 0.8368\n",
            "Epoch 81/100\n",
            "484/484 [==============================] - 7s 14ms/step - loss: 0.6732 - accuracy: 0.8377\n",
            "Epoch 82/100\n",
            "484/484 [==============================] - 7s 14ms/step - loss: 0.6597 - accuracy: 0.8425\n",
            "Epoch 83/100\n",
            "484/484 [==============================] - 7s 15ms/step - loss: 0.6450 - accuracy: 0.8426\n",
            "Epoch 84/100\n",
            "484/484 [==============================] - 7s 14ms/step - loss: 0.6437 - accuracy: 0.8420\n",
            "Epoch 85/100\n",
            "484/484 [==============================] - 7s 14ms/step - loss: 0.6523 - accuracy: 0.8381\n",
            "Epoch 86/100\n",
            "484/484 [==============================] - 7s 14ms/step - loss: 0.6311 - accuracy: 0.8425\n",
            "Epoch 87/100\n",
            "484/484 [==============================] - 7s 14ms/step - loss: 0.6497 - accuracy: 0.8392\n",
            "Epoch 88/100\n",
            "484/484 [==============================] - 7s 14ms/step - loss: 0.6397 - accuracy: 0.8408\n",
            "Epoch 89/100\n",
            "484/484 [==============================] - 7s 15ms/step - loss: 0.6175 - accuracy: 0.8436\n",
            "Epoch 90/100\n",
            "484/484 [==============================] - 7s 14ms/step - loss: 0.6135 - accuracy: 0.8452\n",
            "Epoch 91/100\n",
            "484/484 [==============================] - 7s 14ms/step - loss: 0.6060 - accuracy: 0.8445\n",
            "Epoch 92/100\n",
            "484/484 [==============================] - 7s 14ms/step - loss: 0.5980 - accuracy: 0.8479\n",
            "Epoch 93/100\n",
            "484/484 [==============================] - 7s 14ms/step - loss: 0.5997 - accuracy: 0.8462\n",
            "Epoch 94/100\n",
            "484/484 [==============================] - 7s 14ms/step - loss: 0.5969 - accuracy: 0.8469\n",
            "Epoch 95/100\n",
            "484/484 [==============================] - 7s 14ms/step - loss: 0.6086 - accuracy: 0.8444\n",
            "Epoch 96/100\n",
            "484/484 [==============================] - 7s 14ms/step - loss: 0.6015 - accuracy: 0.8470\n",
            "Epoch 97/100\n",
            "484/484 [==============================] - 7s 14ms/step - loss: 0.5935 - accuracy: 0.8458\n",
            "Epoch 98/100\n",
            "484/484 [==============================] - 7s 14ms/step - loss: 0.5821 - accuracy: 0.8485\n",
            "Epoch 99/100\n",
            "484/484 [==============================] - 7s 15ms/step - loss: 0.5700 - accuracy: 0.8504\n",
            "Epoch 100/100\n",
            "484/484 [==============================] - 7s 15ms/step - loss: 0.5781 - accuracy: 0.8474\n"
          ],
          "name": "stdout"
        }
      ]
    },
    {
      "cell_type": "code",
      "metadata": {
        "colab_type": "code",
        "id": "1fXTEO3GJ282",
        "colab": {
          "base_uri": "https://localhost:8080/",
          "height": 545
        },
        "outputId": "5a435224-3eaa-4fe3-c1d8-2e1a96e543e6"
      },
      "source": [
        "import matplotlib.pyplot as plt\n",
        "acc = history.history['accuracy']\n",
        "loss = history.history['loss']\n",
        "\n",
        "epochs = range(len(acc))\n",
        "\n",
        "plt.plot(epochs, acc, 'b', label='Training accuracy')\n",
        "plt.title('Training accuracy')\n",
        "\n",
        "plt.figure()\n",
        "\n",
        "plt.plot(epochs, loss, 'b', label='Training Loss')\n",
        "plt.title('Training loss')\n",
        "plt.legend()\n",
        "\n",
        "plt.show()"
      ],
      "execution_count": 11,
      "outputs": [
        {
          "output_type": "display_data",
          "data": {
            "image/png": "[encoded data removed]",
            "text/plain": [
              "<Figure size 432x288 with 1 Axes>"
            ]
          },
          "metadata": {
            "tags": [],
            "needs_background": "light"
          }
        },
        {
          "output_type": "display_data",
          "data": {
            "image/png": "[encoded data removed]",
            "text/plain": [
              "<Figure size 432x288 with 1 Axes>"
            ]
          },
          "metadata": {
            "tags": [],
            "needs_background": "light"
          }
        }
      ]
    },
    {
      "cell_type": "code",
      "metadata": {
        "colab_type": "code",
        "id": "6Vc6PHgxa6Hm",
        "colab": {
          "base_uri": "https://localhost:8080/",
          "height": 105
        },
        "outputId": "20005c69-35a8-46df-feaa-3303e71d3d50"
      },
      "source": [
        "seed_text = \"Help me Obi Wan Kenobi, you're my only hope\"\n",
        "next_words = 100\n",
        "  \n",
        "for _ in range(next_words):\n",
        "\ttoken_list = tokenizer.texts_to_sequences([seed_text])[0]\n",
        "\ttoken_list = pad_sequences([token_list], maxlen=max_sequence_len-1, padding='pre')\n",
        "\tpredicted = model.predict_classes(token_list, verbose=0)\n",
        "\toutput_word = \"\"\n",
        "\tfor word, index in tokenizer.word_index.items():\n",
        "\t\tif index == predicted:\n",
        "\t\t\toutput_word = word\n",
        "\t\t\tbreak\n",
        "\tseed_text += \" \" + output_word\n",
        "print(seed_text)"
      ],
      "execution_count": 12,
      "outputs": [
        {
          "output_type": "stream",
          "text": [
            "WARNING:tensorflow:From <ipython-input-12-622d307fa19a>:7: Sequential.predict_classes (from tensorflow.python.keras.engine.sequential) is deprecated and will be removed after 2021-01-01.\n",
            "Instructions for updating:\n",
            "Please use instead:* `np.argmax(model.predict(x), axis=-1)`,   if your model does multi-class classification   (e.g. if it uses a `softmax` last-layer activation).* `(model.predict(x) > 0.5).astype(\"int32\")`,   if your model does binary classification   (e.g. if it uses a `sigmoid` last-layer activation).\n",
            "Help me Obi Wan Kenobi, you're my only hope thy name muse hate are with he are near slain his boot rage mortal travel vice title bed prey was measure by i are due on dwell in any thing ' tell the strength of too frame me none dyed much hour such hour outright still usurer to find worse hast they hour more alone more more than war with love of mine eye is new fame both decay new and shall used ' luck trespass me last so like a makeless wife knowing to thee his glory in blame it is thee and of thy best can stay or\n"
          ],
          "name": "stdout"
        }
      ]
    },
    {
      "cell_type": "code",
      "metadata": {
        "id": "UKKFxCXhtIuJ",
        "colab_type": "code",
        "colab": {}
      },
      "source": [
        ""
      ],
      "execution_count": 0,
      "outputs": []
    }
  ]
}