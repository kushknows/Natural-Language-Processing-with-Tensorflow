{
  "nbformat": 4,
  "nbformat_minor": 0,
  "metadata": {
    "accelerator": "TPU",
    "colab": {
      "name": "Course 3 - Week 3 - Lesson 2.ipynb",
      "provenance": [],
      "collapsed_sections": [],
      "toc_visible": true
    },
    "kernelspec": {
      "display_name": "Python 3",
      "name": "python3"
    }
  },
  "cells": [
    {
      "cell_type": "code",
      "metadata": {
        "id": "zX4Kg8DUTKWO",
        "colab_type": "code",
        "colab": {}
      },
      "source": [
        "#@title Licensed under the Apache License, Version 2.0 (the \"License\");\n",
        "# you may not use this file except in compliance with the License.\n",
        "# You may obtain a copy of the License at\n",
        "#\n",
        "# https://www.apache.org/licenses/LICENSE-2.0\n",
        "#\n",
        "# Unless required by applicable law or agreed to in writing, software\n",
        "# distributed under the License is distributed on an \"AS IS\" BASIS,\n",
        "# WITHOUT WARRANTIES OR CONDITIONS OF ANY KIND, either express or implied.\n",
        "# See the License for the specific language governing permissions and\n",
        "# limitations under the License."
      ],
      "execution_count": 0,
      "outputs": []
    },
    {
      "cell_type": "code",
      "metadata": {
        "colab_type": "code",
        "id": "jGwXGIXvFhXW",
        "colab": {
          "base_uri": "https://localhost:8080/",
          "height": 1000
        },
        "outputId": "dc4f297c-76d6-439c-d681-b91c36eb11d5"
      },
      "source": [
        "import numpy as np\n",
        "\n",
        "import json\n",
        "import tensorflow as tf\n",
        "\n",
        "from tensorflow.keras.preprocessing.text import Tokenizer\n",
        "from tensorflow.keras.preprocessing.sequence import pad_sequences\n",
        "\n",
        "!wget --no-check-certificate \\\n",
        "    https://storage.googleapis.com/laurencemoroney-blog.appspot.com/sarcasm.json \\\n",
        "    -O /tmp/sarcasm.json\n",
        "\n",
        "vocab_size = 1000\n",
        "embedding_dim = 16\n",
        "max_length = 120\n",
        "trunc_type='post'\n",
        "padding_type='post'\n",
        "oov_tok = \"<OOV>\"\n",
        "training_size = 20000\n",
        "\n",
        "\n",
        "with open(\"/tmp/sarcasm.json\", 'r') as f:\n",
        "    datastore = json.load(f)\n",
        "\n",
        "\n",
        "sentences = []\n",
        "labels = []\n",
        "urls = []\n",
        "for item in datastore:\n",
        "    sentences.append(item['headline'])\n",
        "    labels.append(item['is_sarcastic'])\n",
        "\n",
        "training_sentences = sentences[0:training_size]\n",
        "testing_sentences = sentences[training_size:]\n",
        "training_labels = labels[0:training_size]\n",
        "testing_labels = labels[training_size:]\n",
        "\n",
        "tokenizer = Tokenizer(num_words=vocab_size, oov_token=oov_tok)\n",
        "tokenizer.fit_on_texts(training_sentences)\n",
        "\n",
        "word_index = tokenizer.word_index\n",
        "\n",
        "training_sequences = tokenizer.texts_to_sequences(training_sentences)\n",
        "training_padded = pad_sequences(training_sequences, maxlen=max_length, padding=padding_type, truncating=trunc_type)\n",
        "\n",
        "testing_sequences = tokenizer.texts_to_sequences(testing_sentences)\n",
        "testing_padded = pad_sequences(testing_sequences, maxlen=max_length, padding=padding_type, truncating=trunc_type)\n",
        "\n",
        "model = tf.keras.Sequential([\n",
        "    tf.keras.layers.Embedding(vocab_size, embedding_dim, input_length=max_length),\n",
        "    tf.keras.layers.Bidirectional(tf.keras.layers.LSTM(32)),\n",
        "    tf.keras.layers.Dense(24, activation='relu'),\n",
        "    tf.keras.layers.Dense(1, activation='sigmoid')\n",
        "])\n",
        "model.compile(loss='binary_crossentropy',optimizer='adam',metrics=['accuracy'])\n",
        "model.summary()\n",
        "\n",
        "num_epochs = 50\n",
        "training_padded = np.array(training_padded)\n",
        "training_labels = np.array(training_labels)\n",
        "testing_padded = np.array(testing_padded)\n",
        "testing_labels = np.array(testing_labels)\n",
        "history = model.fit(training_padded, training_labels, epochs=num_epochs, validation_data=(testing_padded, testing_labels), verbose=1)\n"
      ],
      "execution_count": 2,
      "outputs": [
        {
          "output_type": "stream",
          "text": [
            "--2020-05-27 09:58:33--  https://storage.googleapis.com/laurencemoroney-blog.appspot.com/sarcasm.json\n",
            "Resolving storage.googleapis.com (storage.googleapis.com)... 172.217.214.128, 2607:f8b0:4001:c03::80\n",
            "Connecting to storage.googleapis.com (storage.googleapis.com)|172.217.214.128|:443... connected.\n",
            "HTTP request sent, awaiting response... 200 OK\n",
            "Length: 5643545 (5.4M) [application/json]\n",
            "Saving to: ‘/tmp/sarcasm.json’\n",
            "\n",
            "\r/tmp/sarcasm.json     0%[                    ]       0  --.-KB/s               \r/tmp/sarcasm.json   100%[===================>]   5.38M  --.-KB/s    in 0.05s   \n",
            "\n",
            "2020-05-27 09:58:33 (103 MB/s) - ‘/tmp/sarcasm.json’ saved [5643545/5643545]\n",
            "\n",
            "Model: \"sequential\"\n",
            "_________________________________________________________________\n",
            "Layer (type)                 Output Shape              Param #   \n",
            "=================================================================\n",
            "embedding (Embedding)        (None, 120, 16)           16000     \n",
            "_________________________________________________________________\n",
            "bidirectional (Bidirectional (None, 64)                12544     \n",
            "_________________________________________________________________\n",
            "dense (Dense)                (None, 24)                1560      \n",
            "_________________________________________________________________\n",
            "dense_1 (Dense)              (None, 1)                 25        \n",
            "=================================================================\n",
            "Total params: 30,129\n",
            "Trainable params: 30,129\n",
            "Non-trainable params: 0\n",
            "_________________________________________________________________\n",
            "Epoch 1/50\n",
            "625/625 [==============================] - 36s 57ms/step - loss: 0.4529 - accuracy: 0.7703 - val_loss: 0.3836 - val_accuracy: 0.8246\n",
            "Epoch 2/50\n",
            "625/625 [==============================] - 35s 57ms/step - loss: 0.3506 - accuracy: 0.8393 - val_loss: 0.3724 - val_accuracy: 0.8292\n",
            "Epoch 3/50\n",
            "625/625 [==============================] - 35s 57ms/step - loss: 0.3289 - accuracy: 0.8514 - val_loss: 0.3681 - val_accuracy: 0.8319\n",
            "Epoch 4/50\n",
            "625/625 [==============================] - 35s 56ms/step - loss: 0.3135 - accuracy: 0.8601 - val_loss: 0.3700 - val_accuracy: 0.8305\n",
            "Epoch 5/50\n",
            "625/625 [==============================] - 35s 56ms/step - loss: 0.3023 - accuracy: 0.8639 - val_loss: 0.3754 - val_accuracy: 0.8280\n",
            "Epoch 6/50\n",
            "625/625 [==============================] - 36s 57ms/step - loss: 0.2934 - accuracy: 0.8692 - val_loss: 0.3781 - val_accuracy: 0.8337\n",
            "Epoch 7/50\n",
            "625/625 [==============================] - 35s 57ms/step - loss: 0.2845 - accuracy: 0.8734 - val_loss: 0.3807 - val_accuracy: 0.8307\n",
            "Epoch 8/50\n",
            "625/625 [==============================] - 36s 57ms/step - loss: 0.2754 - accuracy: 0.8795 - val_loss: 0.3819 - val_accuracy: 0.8314\n",
            "Epoch 9/50\n",
            "625/625 [==============================] - 35s 57ms/step - loss: 0.2676 - accuracy: 0.8832 - val_loss: 0.4007 - val_accuracy: 0.8222\n",
            "Epoch 10/50\n",
            "625/625 [==============================] - 36s 57ms/step - loss: 0.2602 - accuracy: 0.8870 - val_loss: 0.4101 - val_accuracy: 0.8265\n",
            "Epoch 11/50\n",
            "625/625 [==============================] - 35s 56ms/step - loss: 0.2541 - accuracy: 0.8909 - val_loss: 0.4054 - val_accuracy: 0.8267\n",
            "Epoch 12/50\n",
            "625/625 [==============================] - 36s 57ms/step - loss: 0.2452 - accuracy: 0.8963 - val_loss: 0.4225 - val_accuracy: 0.8229\n",
            "Epoch 13/50\n",
            "625/625 [==============================] - 35s 56ms/step - loss: 0.2372 - accuracy: 0.8986 - val_loss: 0.4311 - val_accuracy: 0.8213\n",
            "Epoch 14/50\n",
            "625/625 [==============================] - 35s 56ms/step - loss: 0.2288 - accuracy: 0.9032 - val_loss: 0.4622 - val_accuracy: 0.8179\n",
            "Epoch 15/50\n",
            "625/625 [==============================] - 35s 56ms/step - loss: 0.2221 - accuracy: 0.9065 - val_loss: 0.4795 - val_accuracy: 0.8180\n",
            "Epoch 16/50\n",
            "625/625 [==============================] - 41s 65ms/step - loss: 0.2162 - accuracy: 0.9093 - val_loss: 0.4612 - val_accuracy: 0.8126\n",
            "Epoch 17/50\n",
            "625/625 [==============================] - 34s 54ms/step - loss: 0.2065 - accuracy: 0.9139 - val_loss: 0.5074 - val_accuracy: 0.8149\n",
            "Epoch 18/50\n",
            "625/625 [==============================] - 35s 56ms/step - loss: 0.2005 - accuracy: 0.9185 - val_loss: 0.5178 - val_accuracy: 0.8107\n",
            "Epoch 19/50\n",
            "625/625 [==============================] - 35s 56ms/step - loss: 0.1937 - accuracy: 0.9199 - val_loss: 0.5481 - val_accuracy: 0.8092\n",
            "Epoch 20/50\n",
            "625/625 [==============================] - 35s 56ms/step - loss: 0.1879 - accuracy: 0.9231 - val_loss: 0.5267 - val_accuracy: 0.8146\n",
            "Epoch 21/50\n",
            "625/625 [==============================] - 34s 55ms/step - loss: 0.1806 - accuracy: 0.9256 - val_loss: 0.6027 - val_accuracy: 0.8143\n",
            "Epoch 22/50\n",
            "625/625 [==============================] - 34s 55ms/step - loss: 0.1760 - accuracy: 0.9291 - val_loss: 0.5808 - val_accuracy: 0.8097\n",
            "Epoch 23/50\n",
            "625/625 [==============================] - 35s 55ms/step - loss: 0.1664 - accuracy: 0.9320 - val_loss: 0.6155 - val_accuracy: 0.8114\n",
            "Epoch 24/50\n",
            "625/625 [==============================] - 36s 57ms/step - loss: 0.1616 - accuracy: 0.9362 - val_loss: 0.6600 - val_accuracy: 0.8095\n",
            "Epoch 25/50\n",
            "625/625 [==============================] - 35s 56ms/step - loss: 0.1569 - accuracy: 0.9365 - val_loss: 0.6815 - val_accuracy: 0.8055\n",
            "Epoch 26/50\n",
            "625/625 [==============================] - 34s 55ms/step - loss: 0.1481 - accuracy: 0.9399 - val_loss: 0.7569 - val_accuracy: 0.8061\n",
            "Epoch 27/50\n",
            "625/625 [==============================] - 34s 55ms/step - loss: 0.1416 - accuracy: 0.9431 - val_loss: 0.7433 - val_accuracy: 0.8041\n",
            "Epoch 28/50\n",
            "625/625 [==============================] - 35s 56ms/step - loss: 0.1398 - accuracy: 0.9426 - val_loss: 0.7347 - val_accuracy: 0.8092\n",
            "Epoch 29/50\n",
            "625/625 [==============================] - 35s 55ms/step - loss: 0.1301 - accuracy: 0.9474 - val_loss: 0.9368 - val_accuracy: 0.8037\n",
            "Epoch 30/50\n",
            "625/625 [==============================] - 35s 56ms/step - loss: 0.1225 - accuracy: 0.9513 - val_loss: 0.9085 - val_accuracy: 0.8013\n",
            "Epoch 31/50\n",
            "625/625 [==============================] - 35s 55ms/step - loss: 0.1204 - accuracy: 0.9507 - val_loss: 0.9344 - val_accuracy: 0.8030\n",
            "Epoch 32/50\n",
            "625/625 [==============================] - 35s 56ms/step - loss: 0.1145 - accuracy: 0.9537 - val_loss: 0.9512 - val_accuracy: 0.8058\n",
            "Epoch 33/50\n",
            "625/625 [==============================] - 34s 55ms/step - loss: 0.1106 - accuracy: 0.9548 - val_loss: 0.9936 - val_accuracy: 0.8062\n",
            "Epoch 34/50\n",
            "625/625 [==============================] - 34s 55ms/step - loss: 0.1086 - accuracy: 0.9542 - val_loss: 1.0289 - val_accuracy: 0.7958\n",
            "Epoch 35/50\n",
            "625/625 [==============================] - 34s 55ms/step - loss: 0.1027 - accuracy: 0.9575 - val_loss: 1.0737 - val_accuracy: 0.8018\n",
            "Epoch 36/50\n",
            "625/625 [==============================] - 34s 55ms/step - loss: 0.0990 - accuracy: 0.9585 - val_loss: 1.1668 - val_accuracy: 0.8010\n",
            "Epoch 37/50\n",
            "625/625 [==============================] - 34s 55ms/step - loss: 0.0973 - accuracy: 0.9600 - val_loss: 1.1106 - val_accuracy: 0.8038\n",
            "Epoch 38/50\n",
            "625/625 [==============================] - 34s 55ms/step - loss: 0.0886 - accuracy: 0.9632 - val_loss: 1.2567 - val_accuracy: 0.7985\n",
            "Epoch 39/50\n",
            "625/625 [==============================] - 34s 55ms/step - loss: 0.0871 - accuracy: 0.9631 - val_loss: 1.4332 - val_accuracy: 0.7951\n",
            "Epoch 40/50\n",
            "625/625 [==============================] - 35s 55ms/step - loss: 0.0834 - accuracy: 0.9646 - val_loss: 1.3575 - val_accuracy: 0.7968\n",
            "Epoch 41/50\n",
            "625/625 [==============================] - 35s 56ms/step - loss: 0.0794 - accuracy: 0.9660 - val_loss: 1.3197 - val_accuracy: 0.7958\n",
            "Epoch 42/50\n",
            "625/625 [==============================] - 34s 55ms/step - loss: 0.0859 - accuracy: 0.9632 - val_loss: 1.3671 - val_accuracy: 0.7915\n",
            "Epoch 43/50\n",
            "625/625 [==============================] - 34s 55ms/step - loss: 0.0774 - accuracy: 0.9676 - val_loss: 1.4702 - val_accuracy: 0.7979\n",
            "Epoch 44/50\n",
            "625/625 [==============================] - 34s 54ms/step - loss: 0.0785 - accuracy: 0.9664 - val_loss: 1.5125 - val_accuracy: 0.7985\n",
            "Epoch 45/50\n",
            "625/625 [==============================] - 34s 54ms/step - loss: 0.0707 - accuracy: 0.9704 - val_loss: 1.5321 - val_accuracy: 0.8028\n",
            "Epoch 46/50\n",
            "625/625 [==============================] - 35s 55ms/step - loss: 0.0669 - accuracy: 0.9717 - val_loss: 1.6612 - val_accuracy: 0.7965\n",
            "Epoch 47/50\n",
            "625/625 [==============================] - 35s 55ms/step - loss: 0.0676 - accuracy: 0.9708 - val_loss: 1.6547 - val_accuracy: 0.7977\n",
            "Epoch 48/50\n",
            "625/625 [==============================] - 36s 58ms/step - loss: 0.0732 - accuracy: 0.9690 - val_loss: 1.6261 - val_accuracy: 0.7958\n",
            "Epoch 49/50\n",
            "625/625 [==============================] - 39s 63ms/step - loss: 0.0663 - accuracy: 0.9715 - val_loss: 1.6789 - val_accuracy: 0.7925\n",
            "Epoch 50/50\n",
            "625/625 [==============================] - 35s 57ms/step - loss: 0.0635 - accuracy: 0.9723 - val_loss: 1.7351 - val_accuracy: 0.7995\n"
          ],
          "name": "stdout"
        }
      ]
    },
    {
      "cell_type": "code",
      "metadata": {
        "colab_type": "code",
        "id": "g9DC6dmLF8DC",
        "colab": {
          "base_uri": "https://localhost:8080/",
          "height": 541
        },
        "outputId": "480c67b4-1a7c-4c99-d69e-d2d0337e52b9"
      },
      "source": [
        "import matplotlib.pyplot as plt\n",
        "\n",
        "\n",
        "def plot_graphs(history, string):\n",
        "  plt.plot(history.history[string])\n",
        "  plt.plot(history.history['val_'+string])\n",
        "  plt.xlabel(\"Epochs\")\n",
        "  plt.ylabel(string)\n",
        "  plt.legend([string, 'val_'+string])\n",
        "  plt.show()\n",
        "\n",
        "plot_graphs(history, 'accuracy')\n",
        "plot_graphs(history, 'loss')\n",
        "# This is due to overfitting, val_accuracy goes on low and val_loss becomes high as epochs increases"
      ],
      "execution_count": 3,
      "outputs": [
        {
          "output_type": "display_data",
          "data": {
            "image/png": "[encoded data removed]",
            "text/plain": [
              "<Figure size 432x288 with 1 Axes>"
            ]
          },
          "metadata": {
            "tags": [],
            "needs_background": "light"
          }
        },
        {
          "output_type": "display_data",
          "data": {
            "image/png": "[encoded data removed]",
            "text/plain": [
              "<Figure size 432x288 with 1 Axes>"
            ]
          },
          "metadata": {
            "tags": [],
            "needs_background": "light"
          }
        }
      ]
    },
    {
      "cell_type": "code",
      "metadata": {
        "colab_type": "code",
        "id": "7ZEZIUppGhdi",
        "colab": {}
      },
      "source": [
        "model.save(\"test.h5\")"
      ],
      "execution_count": 0,
      "outputs": []
    },
    {
      "cell_type": "code",
      "metadata": {
        "id": "AzxdqwyWWuOw",
        "colab_type": "code",
        "colab": {}
      },
      "source": [
        ""
      ],
      "execution_count": 0,
      "outputs": []
    }
  ]
}